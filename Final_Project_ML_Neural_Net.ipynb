{
  "cells": [
    {
      "cell_type": "code",
      "execution_count": null,
      "metadata": {
        "id": "-vwvr_n9NJqV"
      },
      "outputs": [],
      "source": [
        "!python3 -m pip install -e .\n",
        "!pip install openml"
      ]
    },
    {
      "cell_type": "code",
      "execution_count": null,
      "metadata": {
        "colab": {
          "base_uri": "https://localhost:8080/"
        },
        "id": "kt2PBQp76OrW",
        "outputId": "fd0b3f33-d6e6-41ab-86b1-574d2ab3f196"
      },
      "outputs": [
        {
          "name": "stdout",
          "output_type": "stream",
          "text": [
            "Requirement already satisfied: keras in /usr/local/lib/python3.10/dist-packages (2.12.0)\n",
            "\u001b[2K     \u001b[90m━━━━━━━━━━━━━━━━━━━━━━━━━━━━━━━━━━━━━━━━\u001b[0m \u001b[32m128.9/128.9 kB\u001b[0m \u001b[31m677.1 kB/s\u001b[0m eta \u001b[36m0:00:00\u001b[0m\n",
            "\u001b[?25h"
          ]
        }
      ],
      "source": [
        "!pip install keras\n",
        "!pip install -q -U keras-tuner"
      ]
    },
    {
      "cell_type": "code",
      "execution_count": null,
      "metadata": {
        "id": "nwE78C2iNP_A"
      },
      "outputs": [],
      "source": [
        "import openml\n",
        "import pandas as pd\n",
        "import numpy as np\n",
        "from time import time\n",
        "import keras_tuner as kt\n",
        "import tensorflow as tf\n",
        "from tensorflow import keras\n",
        "from tensorflow.keras import layers\n",
        "import scipy.stats as stats\n",
        "from sklearn.metrics import accuracy_score\n",
        "from sklearn.datasets import fetch_openml\n",
        "from openml.datasets import edit_dataset, fork_dataset, get_dataset\n",
        "from sklearn.model_selection import GridSearchCV, RandomizedSearchCV"
      ]
    },
    {
      "cell_type": "code",
      "execution_count": null,
      "metadata": {
        "colab": {
          "base_uri": "https://localhost:8080/"
        },
        "id": "Jwrwc6vyNQmE",
        "outputId": "4bbbd23e-4043-453d-9b86-f3b4df66875f"
      },
      "outputs": [
        {
          "output_type": "stream",
          "name": "stderr",
          "text": [
            "/usr/local/lib/python3.10/dist-packages/openml/datasets/functions.py:438: FutureWarning: Starting from Version 0.15 `download_data`, `download_qualities`, and `download_features_meta_data` will all be ``False`` instead of ``True`` by default to enable lazy loading. To disable this message until version 0.15 explicitly set `download_data`, `download_qualities`, and `download_features_meta_data` to a bool while calling `get_dataset`.\n",
            "  warnings.warn(\n"
          ]
        }
      ],
      "source": [
        "# This is done based on the dataset ID.\n",
        "dataset = openml.datasets.get_dataset(42890)\n",
        "\n",
        "# Storing the data\n",
        "eeg, *_ = dataset.get_data()"
      ]
    },
    {
      "cell_type": "code",
      "execution_count": null,
      "metadata": {
        "id": "GIwgMlun8Z8_"
      },
      "outputs": [],
      "source": [
        "# For Machine failure\n",
        "df_filtered = eeg.drop(columns=['UDI', 'Product ID', 'Type', 'HDF', 'PWF', 'OSF', 'RNF'])\n",
        "target_cols = ['Machine failure']\n",
        "\n",
        "X = df_filtered.drop(columns='Machine failure', axis=1)\n",
        "y = eeg[target_cols]"
      ]
    },
    {
      "cell_type": "code",
      "execution_count": null,
      "metadata": {
        "colab": {
          "base_uri": "https://localhost:8080/"
        },
        "id": "atBy2GCG__X3",
        "outputId": "8a9503ab-4767-4c1d-a6a4-8b2f379d9bc4"
      },
      "outputs": [
        {
          "output_type": "stream",
          "name": "stdout",
          "text": [
            "{0: 0.5175447676223993, 1: 14.749262536873156}\n"
          ]
        }
      ],
      "source": [
        "weight_for_0 = (1 / y.value_counts()[0]) * (y.count()['Machine failure'] / 2.0)\n",
        "weight_for_1 = (1 / y.value_counts()[1]) * (y.count()['Machine failure'] / 2.0)\n",
        "\n",
        "class_weight_0 = {0: weight_for_0, 1: weight_for_1}\n",
        "\n",
        "print(class_weight_0)"
      ]
    },
    {
      "cell_type": "code",
      "execution_count": null,
      "metadata": {
        "id": "OJfXdoH88cpE"
      },
      "outputs": [],
      "source": [
        "# For TWF\n",
        "df_filtered = eeg.drop(columns=['UDI', 'Product ID', 'Type', 'Machine failure', 'HDF', 'PWF', 'OSF', 'RNF'])\n",
        "target_cols = ['TWF']\n",
        "\n",
        "X = df_filtered.drop(columns='TWF', axis=1)\n",
        "y = eeg[target_cols]"
      ]
    },
    {
      "cell_type": "code",
      "execution_count": null,
      "metadata": {
        "colab": {
          "base_uri": "https://localhost:8080/"
        },
        "id": "5mYXICUPADVv",
        "outputId": "b31ba0cf-97aa-49bb-b39d-229774def3ad"
      },
      "outputs": [
        {
          "output_type": "stream",
          "name": "stdout",
          "text": [
            "{0: 0.5023106288929075, 1: 108.69565217391305}\n"
          ]
        }
      ],
      "source": [
        "weight_for_0 = (1 / y.value_counts()[0]) * (y.count()['TWF'] / 2.0)\n",
        "weight_for_1 = (1 / y.value_counts()[1]) * (y.count()['TWF'] / 2.0)\n",
        "\n",
        "class_weight_1 = {0: weight_for_0, 1: weight_for_1}\n",
        "\n",
        "print(class_weight_1)"
      ]
    },
    {
      "cell_type": "code",
      "execution_count": null,
      "metadata": {
        "id": "R_SIwrat8dGx"
      },
      "outputs": [],
      "source": [
        "# For HDF\n",
        "df_filtered = eeg.drop(columns=['UDI', 'Product ID', 'Type', 'Machine failure', 'TWF', 'PWF', 'OSF', 'RNF'])\n",
        "target_cols = ['HDF']\n",
        "\n",
        "X = df_filtered.drop(columns='HDF', axis=1)\n",
        "y = eeg[target_cols]"
      ]
    },
    {
      "cell_type": "code",
      "execution_count": null,
      "metadata": {
        "colab": {
          "base_uri": "https://localhost:8080/"
        },
        "id": "nvTw8wEVAF4Y",
        "outputId": "f884077b-b049-4fc2-c266-63003bd68dff"
      },
      "outputs": [
        {
          "name": "stdout",
          "output_type": "stream",
          "text": [
            "{0: 0.5058168942842691, 1: 43.47826086956522}\n"
          ]
        }
      ],
      "source": [
        "weight_for_0 = (1 / y.value_counts()[0]) * (y.count()['HDF'] / 2.0)\n",
        "weight_for_1 = (1 / y.value_counts()[1]) * (y.count()['HDF'] / 2.0)\n",
        "\n",
        "class_weight_2 = {0: weight_for_0, 1: weight_for_1}\n",
        "\n",
        "print(class_weight_2)"
      ]
    },
    {
      "cell_type": "code",
      "execution_count": null,
      "metadata": {
        "id": "l3pF8MBI8mzV"
      },
      "outputs": [],
      "source": [
        "# For PWF\n",
        "df_filtered = eeg.drop(columns=['UDI', 'Product ID', 'Type', 'Machine failure', 'TWF', 'HDF', 'OSF', 'RNF'])\n",
        "target_cols = ['PWF']\n",
        "\n",
        "X = df_filtered.drop(columns='PWF', axis=1)\n",
        "y = eeg[target_cols]"
      ]
    },
    {
      "cell_type": "code",
      "execution_count": null,
      "metadata": {
        "colab": {
          "base_uri": "https://localhost:8080/"
        },
        "id": "Q17e8NDyAIhz",
        "outputId": "f31f7cde-4234-49ca-863f-c203a497e926"
      },
      "outputs": [
        {
          "name": "stdout",
          "output_type": "stream",
          "text": [
            "{0: 0.5047955577990914, 1: 52.63157894736842}\n"
          ]
        }
      ],
      "source": [
        "weight_for_0 = (1 / y.value_counts()[0]) * (y.count()['PWF'] / 2.0)\n",
        "weight_for_1 = (1 / y.value_counts()[1]) * (y.count()['PWF'] / 2.0)\n",
        "\n",
        "class_weight_3 = {0: weight_for_0, 1: weight_for_1}\n",
        "\n",
        "print(class_weight_3)"
      ]
    },
    {
      "cell_type": "code",
      "execution_count": null,
      "metadata": {
        "id": "Tb8qrqN78pXJ"
      },
      "outputs": [],
      "source": [
        "# For OSF\n",
        "df_filtered = eeg.drop(columns=['UDI', 'Product ID', 'Type', 'Machine failure', 'TWF', 'HDF', 'PWF', 'RNF'])\n",
        "target_cols = ['OSF']\n",
        "\n",
        "X = df_filtered.drop(columns='OSF', axis=1)\n",
        "y = eeg[target_cols]"
      ]
    },
    {
      "cell_type": "code",
      "execution_count": null,
      "metadata": {
        "colab": {
          "base_uri": "https://localhost:8080/"
        },
        "id": "BIaS9aTIAK_k",
        "outputId": "1eb5bd24-3b8b-43e7-ca53-2ee262e91f06"
      },
      "outputs": [
        {
          "name": "stdout",
          "output_type": "stream",
          "text": [
            "{0: 0.5049484952534841, 1: 51.0204081632653}\n"
          ]
        }
      ],
      "source": [
        "weight_for_0 = (1 / y.value_counts()[0]) * (y.count()['OSF'] / 2.0)\n",
        "weight_for_1 = (1 / y.value_counts()[1]) * (y.count()['OSF'] / 2.0)\n",
        "\n",
        "class_weight_4 = {0: weight_for_0, 1: weight_for_1}\n",
        "\n",
        "print(class_weight_4)"
      ]
    },
    {
      "cell_type": "code",
      "execution_count": null,
      "metadata": {
        "id": "AnjpH7UV8s6_"
      },
      "outputs": [],
      "source": [
        "# For RNF\n",
        "df_filtered = eeg.drop(columns=['UDI', 'Product ID', 'Type', 'Machine failure', 'TWF', 'HDF', 'OSF', 'PWF'])\n",
        "target_cols = ['RNF']\n",
        "\n",
        "X = df_filtered.drop(columns='RNF', axis=1)\n",
        "y = eeg[target_cols]"
      ]
    },
    {
      "cell_type": "code",
      "execution_count": null,
      "metadata": {
        "colab": {
          "base_uri": "https://localhost:8080/"
        },
        "id": "28PPyrs6ANIi",
        "outputId": "bfa332ee-d1ad-46b9-86c2-4cff64e65a4f"
      },
      "outputs": [
        {
          "output_type": "stream",
          "name": "stdout",
          "text": [
            "{0: 0.5009518084360284, 1: 263.1578947368421}\n"
          ]
        }
      ],
      "source": [
        "weight_for_0 = (1 / y.value_counts()[0]) * (y.count()['RNF'] / 2.0)\n",
        "weight_for_1 = (1 / y.value_counts()[1]) * (y.count()['RNF'] / 2.0)\n",
        "\n",
        "class_weight_5 = {0: weight_for_0, 1: weight_for_1}\n",
        "\n",
        "print(class_weight_5)"
      ]
    },
    {
      "cell_type": "code",
      "execution_count": null,
      "metadata": {
        "id": "AH26-qAJ6E2U"
      },
      "outputs": [],
      "source": [
        "# All\n",
        "df_filtered = eeg.drop(columns=['UDI', 'Product ID', 'Type', 'Machine failure', 'TWF', 'HDF', 'PWF', 'OSF', 'RNF'])\n",
        "target_cols = eeg.drop(columns=['UDI', 'Product ID', 'Type', 'Air temperature [K]',\n",
        "                  'Process temperature [K]', 'Rotational speed [rpm]',\n",
        "                  'Torque [Nm]', 'Tool wear [min]'])\n",
        "\n",
        "X = df_filtered\n",
        "y = target_cols"
      ]
    },
    {
      "cell_type": "code",
      "source": [
        "from sklearn.model_selection import train_test_split\n",
        "X_train, X_test, y_train, y_test = train_test_split(X, y, test_size=0.3, random_state=31)"
      ],
      "metadata": {
        "id": "dGvaCTplADJP"
      },
      "execution_count": null,
      "outputs": []
    },
    {
      "cell_type": "markdown",
      "metadata": {
        "id": "XfnQV1-59Qq-"
      },
      "source": [
        "\n",
        "\n",
        "---\n",
        "\n"
      ]
    },
    {
      "cell_type": "code",
      "execution_count": null,
      "metadata": {
        "id": "CaRkHlPd5jQ2"
      },
      "outputs": [],
      "source": [
        "# Using tensorflow to create my model\n",
        "# More challenging then sklearn but interesting!\n",
        "\n",
        "# Define the model\n",
        "tf_model = tf.keras.models.Sequential([\n",
        "    tf.keras.layers.Dense(300, activation=tf.nn.sigmoid, input_shape=(X_train.shape[1],)), # Hidden layer def\n",
        "    tf.keras.layers.Dropout(0.35), # To reduce overfitting\n",
        "    tf.keras.layers.Dense(y_train.shape[1], activation='relu') # Output layer (Adjust based on data used)\n",
        "])"
      ]
    },
    {
      "cell_type": "code",
      "execution_count": null,
      "metadata": {
        "id": "vjKmJ9H-_ADe"
      },
      "outputs": [],
      "source": [
        "tf_model.compile(optimizer=tf.keras.optimizers.Adam(learning_rate=1e-3),\n",
        "              loss=tf.keras.losses.BinaryCrossentropy(),\n",
        "              metrics=[tf.keras.metrics.BinaryAccuracy(),\n",
        "                       tf.keras.metrics.FalseNegatives()])\n"
      ]
    },
    {
      "cell_type": "code",
      "execution_count": null,
      "metadata": {
        "colab": {
          "base_uri": "https://localhost:8080/"
        },
        "id": "V8i48Tzw5pnh",
        "outputId": "4604c906-c412-4df8-cca3-77bace4903af"
      },
      "outputs": [
        {
          "output_type": "stream",
          "name": "stdout",
          "text": [
            "Epoch 1/25\n",
            "219/219 [==============================] - 1s 3ms/step - loss: 5.7989 - binary_accuracy: 0.9986 - false_negatives_6: 10.0000\n",
            "Epoch 2/25\n",
            "219/219 [==============================] - 1s 3ms/step - loss: 5.7989 - binary_accuracy: 0.9986 - false_negatives_6: 10.0000\n",
            "Epoch 3/25\n",
            "219/219 [==============================] - 1s 3ms/step - loss: 5.7989 - binary_accuracy: 0.9986 - false_negatives_6: 10.0000\n",
            "Epoch 4/25\n",
            "219/219 [==============================] - 1s 3ms/step - loss: 5.7989 - binary_accuracy: 0.9986 - false_negatives_6: 10.0000\n",
            "Epoch 5/25\n",
            "219/219 [==============================] - 1s 3ms/step - loss: 5.7989 - binary_accuracy: 0.9986 - false_negatives_6: 10.0000\n",
            "Epoch 6/25\n",
            "219/219 [==============================] - 1s 3ms/step - loss: 5.7989 - binary_accuracy: 0.9986 - false_negatives_6: 10.0000\n",
            "Epoch 7/25\n",
            "219/219 [==============================] - 1s 3ms/step - loss: 5.7989 - binary_accuracy: 0.9986 - false_negatives_6: 10.0000\n",
            "Epoch 8/25\n",
            "219/219 [==============================] - 1s 3ms/step - loss: 5.7989 - binary_accuracy: 0.9986 - false_negatives_6: 10.0000\n",
            "Epoch 9/25\n",
            "219/219 [==============================] - 1s 3ms/step - loss: 5.7989 - binary_accuracy: 0.9986 - false_negatives_6: 10.0000\n",
            "Epoch 10/25\n",
            "219/219 [==============================] - 1s 3ms/step - loss: 5.7989 - binary_accuracy: 0.9986 - false_negatives_6: 10.0000\n",
            "Epoch 11/25\n",
            "219/219 [==============================] - 1s 3ms/step - loss: 5.7989 - binary_accuracy: 0.9986 - false_negatives_6: 10.0000\n",
            "Epoch 12/25\n",
            "219/219 [==============================] - 1s 4ms/step - loss: 5.7989 - binary_accuracy: 0.9986 - false_negatives_6: 10.0000\n",
            "Epoch 13/25\n",
            "219/219 [==============================] - 1s 4ms/step - loss: 5.7989 - binary_accuracy: 0.9986 - false_negatives_6: 10.0000\n",
            "Epoch 14/25\n",
            "219/219 [==============================] - 1s 4ms/step - loss: 5.7989 - binary_accuracy: 0.9986 - false_negatives_6: 10.0000\n",
            "Epoch 15/25\n",
            "219/219 [==============================] - 1s 4ms/step - loss: 5.7989 - binary_accuracy: 0.9986 - false_negatives_6: 10.0000\n",
            "Epoch 16/25\n",
            "219/219 [==============================] - 1s 6ms/step - loss: 5.7989 - binary_accuracy: 0.9986 - false_negatives_6: 10.0000\n",
            "Epoch 17/25\n",
            "219/219 [==============================] - 1s 4ms/step - loss: 5.7989 - binary_accuracy: 0.9986 - false_negatives_6: 10.0000\n",
            "Epoch 18/25\n",
            "219/219 [==============================] - 1s 3ms/step - loss: 5.7989 - binary_accuracy: 0.9986 - false_negatives_6: 10.0000\n",
            "Epoch 19/25\n",
            "219/219 [==============================] - 1s 3ms/step - loss: 5.7989 - binary_accuracy: 0.9986 - false_negatives_6: 10.0000\n",
            "Epoch 20/25\n",
            "219/219 [==============================] - 1s 3ms/step - loss: 5.7989 - binary_accuracy: 0.9986 - false_negatives_6: 10.0000\n",
            "Epoch 21/25\n",
            "219/219 [==============================] - 1s 3ms/step - loss: 5.7989 - binary_accuracy: 0.9986 - false_negatives_6: 10.0000\n",
            "Epoch 22/25\n",
            "219/219 [==============================] - 1s 3ms/step - loss: 5.7989 - binary_accuracy: 0.9986 - false_negatives_6: 10.0000\n",
            "Epoch 23/25\n",
            "219/219 [==============================] - 1s 3ms/step - loss: 5.7989 - binary_accuracy: 0.9986 - false_negatives_6: 10.0000\n",
            "Epoch 24/25\n",
            "219/219 [==============================] - 1s 4ms/step - loss: 5.7989 - binary_accuracy: 0.9986 - false_negatives_6: 10.0000\n",
            "Epoch 25/25\n",
            "219/219 [==============================] - 1s 6ms/step - loss: 5.7989 - binary_accuracy: 0.9986 - false_negatives_6: 10.0000\n",
            "94/94 [==============================] - 0s 3ms/step\n"
          ]
        }
      ],
      "source": [
        "tf_model.fit(X_train, y_train, epochs=25, class_weight=class_weight_5)\n",
        "y_pred = tf_model.predict(X_test)"
      ]
    },
    {
      "cell_type": "markdown",
      "metadata": {
        "id": "mAQdHFCK71mV"
      },
      "source": [
        "# Iterating on this\n",
        "\n",
        "We have established a strong model, one that can train and predict with good accuracy as well as lowish loss. Our false negatives however are quite high.\n",
        "\n",
        "With this dataset a false negative could cost significant money to the company that owns this equipment. Ideally we wouldn't want to see any\n",
        "\n",
        "Let's take it a step further and see if we can minimize with a keras tuner.\n",
        "\n",
        "I would be nice to see the loss drop!\n",
        "\n",
        "\n",
        "Thanks to this article for helping with setting up optimizers https://stackoverflow.com/questions/61080146/kerastuner-custom-objective-function"
      ]
    },
    {
      "cell_type": "code",
      "execution_count": null,
      "metadata": {
        "id": "eufo_30QorQy"
      },
      "outputs": [],
      "source": [
        "from tensorflow.keras import initializers"
      ]
    },
    {
      "cell_type": "code",
      "execution_count": null,
      "metadata": {
        "colab": {
          "base_uri": "https://localhost:8080/"
        },
        "id": "ztev3ZKS7qrI",
        "outputId": "be38fc35-4468-49a7-ea8c-a2a941b4b0b2"
      },
      "outputs": [
        {
          "output_type": "execute_result",
          "data": {
            "text/plain": [
              "<keras.engine.sequential.Sequential at 0x7c75723bc040>"
            ]
          },
          "metadata": {},
          "execution_count": 471
        }
      ],
      "source": [
        "def build_model(hp):\n",
        "\n",
        "    model = keras.Sequential()\n",
        "    model.add(layers.Flatten())\n",
        "    # Tune the number of layers.\n",
        "    for i in range(hp.Int(\"num_layers\", 3, 5)):\n",
        "        model.add(\n",
        "            layers.Dense(\n",
        "                # Tune number of units separately.\n",
        "                units=hp.Int(f\"units_{i}\", min_value=128, max_value=1344, step=32),\n",
        "                activation=hp.Choice(\"activation\", [\"sigmoid\", \"relu\"]),\n",
        "                kernel_initializer=keras.initializers.Zeros(),\n",
        "                bias_initializer=initializers.Zeros()\n",
        "            )\n",
        "        )\n",
        "\n",
        "    # Silu is defined as: swish(x) = x * sigmoid(x).\n",
        "    # This activation function is a smooth, non-monotonic function that is unbounded above and bounded below.\n",
        "\n",
        "    if hp.Boolean(\"dropout\"):\n",
        "        model.add(layers.Dropout(rate=0.35))\n",
        "    model.add(layers.Dense(1, activation=\"softmax\"))\n",
        "    learning_rate = hp.Float(\"lr\", min_value=1e-4, max_value=1e-2, sampling=\"log\")\n",
        "    model.compile(loss=tf.keras.losses.BinaryCrossentropy(from_logits=False),\n",
        "          optimizer=keras.optimizers.Adadelta(\n",
        "              learning_rate=0.003,\n",
        "              rho=0.95, # Decay rate\n",
        "              epsilon=1e-07,\n",
        "              weight_decay=None,\n",
        "              clipnorm=None,\n",
        "              clipvalue=None,\n",
        "              global_clipnorm=None,\n",
        "              use_ema=False,\n",
        "              ema_momentum=0.99,\n",
        "              ema_overwrite_frequency=None,\n",
        "              name=\"adadelta\"),\n",
        "          metrics=[\n",
        "                # tf.keras.metrics.TruePositives(name='tp'),\n",
        "                # tf.keras.metrics.FalsePositives(name='fp'),\n",
        "                # tf.keras.metrics.TrueNegatives(name='tn'),\n",
        "                # tf.keras.metrics.FalseNegatives(name='fn'),\n",
        "                # tf.keras.metrics.BinaryAccuracy(name='accuracy'),\n",
        "                # tf.keras.metrics.Precision(name='precision'),\n",
        "                tf.keras.metrics.Recall(name='recall'),\n",
        "                #tf.keras.metrics.AUC(name='auc'),\n",
        "    ]),\n",
        "    return model\n",
        "\n",
        "\n",
        "build_model(kt.HyperParameters())"
      ]
    },
    {
      "cell_type": "code",
      "execution_count": null,
      "metadata": {
        "id": "FXTDeJGA6HBf"
      },
      "outputs": [],
      "source": [
        "grid_tuner = kt.GridSearch(\n",
        "    hypermodel=build_model,\n",
        "    objective=kt.Objective('recall', direction='max'),\n",
        "    max_trials=2,\n",
        "    executions_per_trial=5,\n",
        "    overwrite=True,\n",
        "    max_retries_per_trial=0,\n",
        "    max_consecutive_failed_trials=3,\n",
        ")"
      ]
    },
    {
      "cell_type": "code",
      "execution_count": null,
      "metadata": {
        "id": "pefWZL9o_xSv"
      },
      "outputs": [],
      "source": [
        "# Using BayesianOptimization\n",
        "kt_tuner = kt.BayesianOptimization(\n",
        "    hypermodel=build_model,\n",
        "    objective=kt.Objective('recall', direction='max'),\n",
        "    max_trials=2,\n",
        "    executions_per_trial=5,\n",
        "    overwrite=True,\n",
        "    directory=\"/\",\n",
        "    project_name=\"MLProject\",\n",
        ")"
      ]
    },
    {
      "cell_type": "code",
      "execution_count": null,
      "metadata": {
        "id": "fIBefwQ0nV2h"
      },
      "outputs": [],
      "source": [
        "# Using Hyperband\n",
        "hyper_tuner = kt.Hyperband(\n",
        "    hypermodel=build_model,\n",
        "    objective=kt.Objective('recall', direction='max'),\n",
        "    max_epochs=2,\n",
        "    factor=3,\n",
        "    hyperband_iterations=3,\n",
        "    max_retries_per_trial=0,\n",
        "    overwrite=True,\n",
        "    directory=\"/\",\n",
        "    project_name=\"MLProject\",\n",
        "    max_consecutive_failed_trials=3\n",
        ")"
      ]
    },
    {
      "cell_type": "code",
      "execution_count": null,
      "metadata": {
        "id": "YobY6FKEaBka"
      },
      "outputs": [],
      "source": [
        "# Using RandomSearch\n",
        "rand_tuner = kt.RandomSearch(\n",
        "    hypermodel=build_model,\n",
        "    objective=kt.Objective('recall', direction='max'),\n",
        "    max_trials=2,\n",
        "    executions_per_trial=5,\n",
        "    overwrite=True,\n",
        ")"
      ]
    },
    {
      "cell_type": "code",
      "execution_count": null,
      "metadata": {
        "colab": {
          "base_uri": "https://localhost:8080/"
        },
        "id": "hwXWRbMLn7yK",
        "outputId": "93c1ac2a-c90b-47fc-9e44-1f165de32870"
      },
      "outputs": [
        {
          "output_type": "stream",
          "name": "stdout",
          "text": [
            "Trial 6 Complete [00h 00m 14s]\n",
            "recall: 1.0\n",
            "\n",
            "Best recall So Far: 1.0\n",
            "Total elapsed time: 00h 02m 07s\n"
          ]
        }
      ],
      "source": [
        "hyper_tuner.search(X_train, y_train, epochs=2, validation_data=(X_test, y_test), class_weight=class_weight_5)"
      ]
    },
    {
      "cell_type": "code",
      "execution_count": null,
      "metadata": {
        "colab": {
          "base_uri": "https://localhost:8080/"
        },
        "id": "6LHBUM9jbsKC",
        "outputId": "3f00fa72-350f-4344-8008-f2ab81b7cde4"
      },
      "outputs": [
        {
          "output_type": "stream",
          "name": "stdout",
          "text": [
            "Trial 2 Complete [00h 03m 18s]\n",
            "recall: 1.0\n",
            "\n",
            "Best recall So Far: 1.0\n",
            "Total elapsed time: 00h 07m 36s\n"
          ]
        }
      ],
      "source": [
        "rand_tuner.search(X_train, y_train, epochs=5, validation_data=(X_test, y_test), class_weight=class_weight_1)"
      ]
    },
    {
      "cell_type": "code",
      "execution_count": null,
      "metadata": {
        "id": "FqVXrBSW_y4m"
      },
      "outputs": [],
      "source": [
        "kt_tuner.search(X_train, y_train, epochs=5, validation_data=(X_test, y_test), class_weight=class_weight_1)"
      ]
    },
    {
      "cell_type": "code",
      "execution_count": null,
      "metadata": {
        "colab": {
          "base_uri": "https://localhost:8080/"
        },
        "id": "fxzYr_UH6wQP",
        "outputId": "e5cc572a-a956-4a96-baf4-6aad3ac64d8c"
      },
      "outputs": [
        {
          "name": "stdout",
          "output_type": "stream",
          "text": [
            "Trial 30 Complete [00h 00m 12s]\n",
            "recall: 0.0\n",
            "\n",
            "Best recall So Far: 0.21645796298980713\n",
            "Total elapsed time: 00h 04m 56s\n"
          ]
        }
      ],
      "source": [
        "grid_tuner.search(X_train, y_train, epochs=6, validation_data=(X_test, y_test))"
      ]
    },
    {
      "cell_type": "code",
      "execution_count": null,
      "metadata": {
        "id": "z6r9fCBa5Lcx"
      },
      "outputs": [],
      "source": [
        "%load_ext tensorboard"
      ]
    },
    {
      "cell_type": "code",
      "execution_count": null,
      "metadata": {
        "colab": {
          "base_uri": "https://localhost:8080/",
          "height": 160
        },
        "id": "PhC0PmYE5EaJ",
        "outputId": "7d1e245c-714b-4335-a79d-e7f7c9b4d965"
      },
      "outputs": [
        {
          "data": {
            "text/plain": [
              "ERROR: Failed to launch TensorBoard (exited with 1).\n",
              "Contents of stderr:\n",
              "2023-11-30 06:24:39.108638: W tensorflow/compiler/tf2tensorrt/utils/py_utils.cc:38] TF-TRT Warning: Could not find TensorRT\n",
              "Address already in use\n",
              "Port 6006 is in use by another program. Either identify and stop that program, or start the server with a different port."
            ]
          },
          "metadata": {},
          "output_type": "display_data"
        }
      ],
      "source": [
        "%tensorboard --logdir /content/untitled_project --load_fast=false"
      ]
    },
    {
      "cell_type": "code",
      "execution_count": null,
      "metadata": {
        "id": "5TUVRZUkb_v-"
      },
      "outputs": [],
      "source": [
        "# Find the best model\n",
        "rand_best = rand_tuner.get_best_model(1)\n",
        "cool_best = cool_tuner.get_best_model(1)\n",
        "kt_best = kt_tuner.get_best_model(1)\n",
        "\n",
        "rand_best_score = rand_tuner.results_summary()[0]['objective_value']\n",
        "cool_best_score = cool_tuner.results_summary()[0]['objective_value']\n",
        "kt_best_score = kt_tuner.results_summary()[0]['objective_value']\n",
        "\n",
        "scores = [rand_best_score, cool_best_score, kt_best_score]\n",
        "models = [rand_best, cool_best, kt_best]\n",
        "\n",
        "best_model = models[np.argmax(scores)]\n"
      ]
    },
    {
      "cell_type": "markdown",
      "metadata": {
        "id": "krDul7ZZJlqV"
      },
      "source": [
        "# Understanding the scoring\n",
        "\n",
        "https://developers.google.com/machine-learning/crash-course/classification/precision-and-recall#:~:text=Recall%20attempts%20to%20answer%20the,actual%20positives%20was%20identified%20correctly%3F&text=P%20%2B%20F%20N-,Note%3A%20A%20model%20that%20produces%20no%20false,has%20a%20recall%20of%201.0.&text=Our%20model%20has%20a%20recall,11%25%20of%20all%20malignant%20tumors."
      ]
    },
    {
      "cell_type": "markdown",
      "metadata": {
        "id": "4KAQ_F7_JpRV"
      },
      "source": [
        "\n",
        "\n",
        "---\n",
        "\n"
      ]
    },
    {
      "cell_type": "code",
      "execution_count": null,
      "metadata": {
        "colab": {
          "base_uri": "https://localhost:8080/"
        },
        "id": "20aJW7GuBCRj",
        "outputId": "5e49b2dc-81f8-44a5-f2e8-7d8875bbcb72"
      },
      "outputs": [
        {
          "data": {
            "text/plain": [
              "<bound method BaseTuner.results_summary of <keras_tuner.src.tuners.bayesian.BayesianOptimization object at 0x7b9d87e467a0>>"
            ]
          },
          "execution_count": 198,
          "metadata": {},
          "output_type": "execute_result"
        }
      ],
      "source": [
        "kt_tuner.results_summary"
      ]
    },
    {
      "cell_type": "code",
      "execution_count": null,
      "metadata": {
        "colab": {
          "base_uri": "https://localhost:8080/"
        },
        "id": "Ff4gUpYgBc6f",
        "outputId": "2f89a523-73f6-4bcb-fa12-ba614b9b7dad"
      },
      "outputs": [
        {
          "data": {
            "text/plain": [
              "<bound method BaseTuner.search_space_summary of <keras_tuner.src.tuners.bayesian.BayesianOptimization object at 0x7b9d87e467a0>>"
            ]
          },
          "execution_count": 201,
          "metadata": {},
          "output_type": "execute_result"
        }
      ],
      "source": [
        "kt_tuner.search_space_summary"
      ]
    },
    {
      "cell_type": "code",
      "execution_count": null,
      "metadata": {
        "id": "xhpvrkkhBwQq"
      },
      "outputs": [],
      "source": [
        "best_hyperparams = kt_tuner.get_best_hyperparameters(5)\n",
        "\n",
        "# Create a new model with these\n",
        "my_model = build_model(best_hyperparams[0])\n",
        "\n",
        "# Fit\n",
        "X_new = np.concatenate((X_train, X_test))\n",
        "y_new = np.concatenate((y_train, y_test))\n",
        "\n",
        "my_model.fit(x=X_new, y=y_new, epochs=20)"
      ]
    }
  ],
  "metadata": {
    "accelerator": "TPU",
    "colab": {
      "provenance": []
    },
    "kernelspec": {
      "display_name": "Python 3",
      "name": "python3"
    },
    "language_info": {
      "name": "python"
    }
  },
  "nbformat": 4,
  "nbformat_minor": 0
}