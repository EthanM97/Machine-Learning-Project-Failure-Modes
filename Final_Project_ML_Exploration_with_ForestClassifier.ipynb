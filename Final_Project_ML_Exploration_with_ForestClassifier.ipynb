{
  "nbformat": 4,
  "nbformat_minor": 0,
  "metadata": {
    "colab": {
      "provenance": []
    },
    "kernelspec": {
      "name": "python3",
      "display_name": "Python 3"
    },
    "language_info": {
      "name": "python"
    }
  },
  "cells": [
    {
      "cell_type": "code",
      "execution_count": null,
      "metadata": {
        "id": "adbGwM31iQF7"
      },
      "outputs": [],
      "source": [
        "# Get open ML\n",
        "!pip install openml"
      ]
    },
    {
      "cell_type": "code",
      "source": [
        "import openml\n",
        "import pandas as pd\n",
        "import seaborn as sns\n",
        "import numpy as np\n",
        "import sklearn.tree as tree\n",
        "import matplotlib.pyplot as plt\n",
        "from sklearn.metrics import r2_score, accuracy_score, recall_score\n",
        "from openml.datasets import edit_dataset, fork_dataset, get_dataset"
      ],
      "metadata": {
        "id": "HjDodgb0iaNf"
      },
      "execution_count": null,
      "outputs": []
    },
    {
      "cell_type": "code",
      "source": [
        "# Get data\n",
        "dataset = openml.datasets.get_dataset(42890)\n",
        "\n",
        "# Storing the data\n",
        "eeg, *_ = dataset.get_data()"
      ],
      "metadata": {
        "id": "IZEUArZeih6s",
        "colab": {
          "base_uri": "https://localhost:8080/"
        },
        "outputId": "97d24a48-4c1d-41af-9505-d4b579a29b39"
      },
      "execution_count": null,
      "outputs": [
        {
          "output_type": "stream",
          "name": "stderr",
          "text": [
            "/usr/local/lib/python3.10/dist-packages/openml/datasets/functions.py:438: FutureWarning: Starting from Version 0.15 `download_data`, `download_qualities`, and `download_features_meta_data` will all be ``False`` instead of ``True`` by default to enable lazy loading. To disable this message until version 0.15 explicitly set `download_data`, `download_qualities`, and `download_features_meta_data` to a bool while calling `get_dataset`.\n",
            "  warnings.warn(\n"
          ]
        }
      ]
    },
    {
      "cell_type": "code",
      "source": [
        "eeg.head(100)"
      ],
      "metadata": {
        "colab": {
          "base_uri": "https://localhost:8080/",
          "height": 424
        },
        "id": "13cH1SX7W6S0",
        "outputId": "9983a46a-a294-458e-ffe8-8f10b6b76c37"
      },
      "execution_count": null,
      "outputs": [
        {
          "output_type": "execute_result",
          "data": {
            "text/plain": [
              "    UDI Product ID Type  Air temperature [K]  Process temperature [K]  \\\n",
              "0     1     M14860    M                298.1                    308.6   \n",
              "1     2     L47181    L                298.2                    308.7   \n",
              "2     3     L47182    L                298.1                    308.5   \n",
              "3     4     L47183    L                298.2                    308.6   \n",
              "4     5     L47184    L                298.2                    308.7   \n",
              "..  ...        ...  ...                  ...                      ...   \n",
              "95   96     M14955    M                299.0                    309.0   \n",
              "96   97     M14956    M                299.0                    309.0   \n",
              "97   98     M14957    M                298.9                    308.9   \n",
              "98   99     L47278    L                298.9                    308.8   \n",
              "99  100     L47279    L                298.8                    308.8   \n",
              "\n",
              "    Rotational speed [rpm]  Torque [Nm]  Tool wear [min]  Machine failure  \\\n",
              "0                     1551         42.8                0                0   \n",
              "1                     1408         46.3                3                0   \n",
              "2                     1498         49.4                5                0   \n",
              "3                     1433         39.5                7                0   \n",
              "4                     1408         40.0                9                0   \n",
              "..                     ...          ...              ...              ...   \n",
              "95                    1351         52.2               44                0   \n",
              "96                    1575         35.3               47                0   \n",
              "97                    1750         29.9               50                0   \n",
              "98                    1529         32.7               53                0   \n",
              "99                    1523         44.4               55                0   \n",
              "\n",
              "    TWF  HDF  PWF  OSF  RNF  \n",
              "0     0    0    0    0    0  \n",
              "1     0    0    0    0    0  \n",
              "2     0    0    0    0    0  \n",
              "3     0    0    0    0    0  \n",
              "4     0    0    0    0    0  \n",
              "..  ...  ...  ...  ...  ...  \n",
              "95    0    0    0    0    0  \n",
              "96    0    0    0    0    0  \n",
              "97    0    0    0    0    0  \n",
              "98    0    0    0    0    0  \n",
              "99    0    0    0    0    0  \n",
              "\n",
              "[100 rows x 14 columns]"
            ],
            "text/html": [
              "\n",
              "  <div id=\"df-3bb56d09-56d3-42ce-8c77-e014a75c5d5b\" class=\"colab-df-container\">\n",
              "    <div>\n",
              "<style scoped>\n",
              "    .dataframe tbody tr th:only-of-type {\n",
              "        vertical-align: middle;\n",
              "    }\n",
              "\n",
              "    .dataframe tbody tr th {\n",
              "        vertical-align: top;\n",
              "    }\n",
              "\n",
              "    .dataframe thead th {\n",
              "        text-align: right;\n",
              "    }\n",
              "</style>\n",
              "<table border=\"1\" class=\"dataframe\">\n",
              "  <thead>\n",
              "    <tr style=\"text-align: right;\">\n",
              "      <th></th>\n",
              "      <th>UDI</th>\n",
              "      <th>Product ID</th>\n",
              "      <th>Type</th>\n",
              "      <th>Air temperature [K]</th>\n",
              "      <th>Process temperature [K]</th>\n",
              "      <th>Rotational speed [rpm]</th>\n",
              "      <th>Torque [Nm]</th>\n",
              "      <th>Tool wear [min]</th>\n",
              "      <th>Machine failure</th>\n",
              "      <th>TWF</th>\n",
              "      <th>HDF</th>\n",
              "      <th>PWF</th>\n",
              "      <th>OSF</th>\n",
              "      <th>RNF</th>\n",
              "    </tr>\n",
              "  </thead>\n",
              "  <tbody>\n",
              "    <tr>\n",
              "      <th>0</th>\n",
              "      <td>1</td>\n",
              "      <td>M14860</td>\n",
              "      <td>M</td>\n",
              "      <td>298.1</td>\n",
              "      <td>308.6</td>\n",
              "      <td>1551</td>\n",
              "      <td>42.8</td>\n",
              "      <td>0</td>\n",
              "      <td>0</td>\n",
              "      <td>0</td>\n",
              "      <td>0</td>\n",
              "      <td>0</td>\n",
              "      <td>0</td>\n",
              "      <td>0</td>\n",
              "    </tr>\n",
              "    <tr>\n",
              "      <th>1</th>\n",
              "      <td>2</td>\n",
              "      <td>L47181</td>\n",
              "      <td>L</td>\n",
              "      <td>298.2</td>\n",
              "      <td>308.7</td>\n",
              "      <td>1408</td>\n",
              "      <td>46.3</td>\n",
              "      <td>3</td>\n",
              "      <td>0</td>\n",
              "      <td>0</td>\n",
              "      <td>0</td>\n",
              "      <td>0</td>\n",
              "      <td>0</td>\n",
              "      <td>0</td>\n",
              "    </tr>\n",
              "    <tr>\n",
              "      <th>2</th>\n",
              "      <td>3</td>\n",
              "      <td>L47182</td>\n",
              "      <td>L</td>\n",
              "      <td>298.1</td>\n",
              "      <td>308.5</td>\n",
              "      <td>1498</td>\n",
              "      <td>49.4</td>\n",
              "      <td>5</td>\n",
              "      <td>0</td>\n",
              "      <td>0</td>\n",
              "      <td>0</td>\n",
              "      <td>0</td>\n",
              "      <td>0</td>\n",
              "      <td>0</td>\n",
              "    </tr>\n",
              "    <tr>\n",
              "      <th>3</th>\n",
              "      <td>4</td>\n",
              "      <td>L47183</td>\n",
              "      <td>L</td>\n",
              "      <td>298.2</td>\n",
              "      <td>308.6</td>\n",
              "      <td>1433</td>\n",
              "      <td>39.5</td>\n",
              "      <td>7</td>\n",
              "      <td>0</td>\n",
              "      <td>0</td>\n",
              "      <td>0</td>\n",
              "      <td>0</td>\n",
              "      <td>0</td>\n",
              "      <td>0</td>\n",
              "    </tr>\n",
              "    <tr>\n",
              "      <th>4</th>\n",
              "      <td>5</td>\n",
              "      <td>L47184</td>\n",
              "      <td>L</td>\n",
              "      <td>298.2</td>\n",
              "      <td>308.7</td>\n",
              "      <td>1408</td>\n",
              "      <td>40.0</td>\n",
              "      <td>9</td>\n",
              "      <td>0</td>\n",
              "      <td>0</td>\n",
              "      <td>0</td>\n",
              "      <td>0</td>\n",
              "      <td>0</td>\n",
              "      <td>0</td>\n",
              "    </tr>\n",
              "    <tr>\n",
              "      <th>...</th>\n",
              "      <td>...</td>\n",
              "      <td>...</td>\n",
              "      <td>...</td>\n",
              "      <td>...</td>\n",
              "      <td>...</td>\n",
              "      <td>...</td>\n",
              "      <td>...</td>\n",
              "      <td>...</td>\n",
              "      <td>...</td>\n",
              "      <td>...</td>\n",
              "      <td>...</td>\n",
              "      <td>...</td>\n",
              "      <td>...</td>\n",
              "      <td>...</td>\n",
              "    </tr>\n",
              "    <tr>\n",
              "      <th>95</th>\n",
              "      <td>96</td>\n",
              "      <td>M14955</td>\n",
              "      <td>M</td>\n",
              "      <td>299.0</td>\n",
              "      <td>309.0</td>\n",
              "      <td>1351</td>\n",
              "      <td>52.2</td>\n",
              "      <td>44</td>\n",
              "      <td>0</td>\n",
              "      <td>0</td>\n",
              "      <td>0</td>\n",
              "      <td>0</td>\n",
              "      <td>0</td>\n",
              "      <td>0</td>\n",
              "    </tr>\n",
              "    <tr>\n",
              "      <th>96</th>\n",
              "      <td>97</td>\n",
              "      <td>M14956</td>\n",
              "      <td>M</td>\n",
              "      <td>299.0</td>\n",
              "      <td>309.0</td>\n",
              "      <td>1575</td>\n",
              "      <td>35.3</td>\n",
              "      <td>47</td>\n",
              "      <td>0</td>\n",
              "      <td>0</td>\n",
              "      <td>0</td>\n",
              "      <td>0</td>\n",
              "      <td>0</td>\n",
              "      <td>0</td>\n",
              "    </tr>\n",
              "    <tr>\n",
              "      <th>97</th>\n",
              "      <td>98</td>\n",
              "      <td>M14957</td>\n",
              "      <td>M</td>\n",
              "      <td>298.9</td>\n",
              "      <td>308.9</td>\n",
              "      <td>1750</td>\n",
              "      <td>29.9</td>\n",
              "      <td>50</td>\n",
              "      <td>0</td>\n",
              "      <td>0</td>\n",
              "      <td>0</td>\n",
              "      <td>0</td>\n",
              "      <td>0</td>\n",
              "      <td>0</td>\n",
              "    </tr>\n",
              "    <tr>\n",
              "      <th>98</th>\n",
              "      <td>99</td>\n",
              "      <td>L47278</td>\n",
              "      <td>L</td>\n",
              "      <td>298.9</td>\n",
              "      <td>308.8</td>\n",
              "      <td>1529</td>\n",
              "      <td>32.7</td>\n",
              "      <td>53</td>\n",
              "      <td>0</td>\n",
              "      <td>0</td>\n",
              "      <td>0</td>\n",
              "      <td>0</td>\n",
              "      <td>0</td>\n",
              "      <td>0</td>\n",
              "    </tr>\n",
              "    <tr>\n",
              "      <th>99</th>\n",
              "      <td>100</td>\n",
              "      <td>L47279</td>\n",
              "      <td>L</td>\n",
              "      <td>298.8</td>\n",
              "      <td>308.8</td>\n",
              "      <td>1523</td>\n",
              "      <td>44.4</td>\n",
              "      <td>55</td>\n",
              "      <td>0</td>\n",
              "      <td>0</td>\n",
              "      <td>0</td>\n",
              "      <td>0</td>\n",
              "      <td>0</td>\n",
              "      <td>0</td>\n",
              "    </tr>\n",
              "  </tbody>\n",
              "</table>\n",
              "<p>100 rows × 14 columns</p>\n",
              "</div>\n",
              "    <div class=\"colab-df-buttons\">\n",
              "\n",
              "  <div class=\"colab-df-container\">\n",
              "    <button class=\"colab-df-convert\" onclick=\"convertToInteractive('df-3bb56d09-56d3-42ce-8c77-e014a75c5d5b')\"\n",
              "            title=\"Convert this dataframe to an interactive table.\"\n",
              "            style=\"display:none;\">\n",
              "\n",
              "  <svg xmlns=\"http://www.w3.org/2000/svg\" height=\"24px\" viewBox=\"0 -960 960 960\">\n",
              "    <path d=\"M120-120v-720h720v720H120Zm60-500h600v-160H180v160Zm220 220h160v-160H400v160Zm0 220h160v-160H400v160ZM180-400h160v-160H180v160Zm440 0h160v-160H620v160ZM180-180h160v-160H180v160Zm440 0h160v-160H620v160Z\"/>\n",
              "  </svg>\n",
              "    </button>\n",
              "\n",
              "  <style>\n",
              "    .colab-df-container {\n",
              "      display:flex;\n",
              "      gap: 12px;\n",
              "    }\n",
              "\n",
              "    .colab-df-convert {\n",
              "      background-color: #E8F0FE;\n",
              "      border: none;\n",
              "      border-radius: 50%;\n",
              "      cursor: pointer;\n",
              "      display: none;\n",
              "      fill: #1967D2;\n",
              "      height: 32px;\n",
              "      padding: 0 0 0 0;\n",
              "      width: 32px;\n",
              "    }\n",
              "\n",
              "    .colab-df-convert:hover {\n",
              "      background-color: #E2EBFA;\n",
              "      box-shadow: 0px 1px 2px rgba(60, 64, 67, 0.3), 0px 1px 3px 1px rgba(60, 64, 67, 0.15);\n",
              "      fill: #174EA6;\n",
              "    }\n",
              "\n",
              "    .colab-df-buttons div {\n",
              "      margin-bottom: 4px;\n",
              "    }\n",
              "\n",
              "    [theme=dark] .colab-df-convert {\n",
              "      background-color: #3B4455;\n",
              "      fill: #D2E3FC;\n",
              "    }\n",
              "\n",
              "    [theme=dark] .colab-df-convert:hover {\n",
              "      background-color: #434B5C;\n",
              "      box-shadow: 0px 1px 3px 1px rgba(0, 0, 0, 0.15);\n",
              "      filter: drop-shadow(0px 1px 2px rgba(0, 0, 0, 0.3));\n",
              "      fill: #FFFFFF;\n",
              "    }\n",
              "  </style>\n",
              "\n",
              "    <script>\n",
              "      const buttonEl =\n",
              "        document.querySelector('#df-3bb56d09-56d3-42ce-8c77-e014a75c5d5b button.colab-df-convert');\n",
              "      buttonEl.style.display =\n",
              "        google.colab.kernel.accessAllowed ? 'block' : 'none';\n",
              "\n",
              "      async function convertToInteractive(key) {\n",
              "        const element = document.querySelector('#df-3bb56d09-56d3-42ce-8c77-e014a75c5d5b');\n",
              "        const dataTable =\n",
              "          await google.colab.kernel.invokeFunction('convertToInteractive',\n",
              "                                                    [key], {});\n",
              "        if (!dataTable) return;\n",
              "\n",
              "        const docLinkHtml = 'Like what you see? Visit the ' +\n",
              "          '<a target=\"_blank\" href=https://colab.research.google.com/notebooks/data_table.ipynb>data table notebook</a>'\n",
              "          + ' to learn more about interactive tables.';\n",
              "        element.innerHTML = '';\n",
              "        dataTable['output_type'] = 'display_data';\n",
              "        await google.colab.output.renderOutput(dataTable, element);\n",
              "        const docLink = document.createElement('div');\n",
              "        docLink.innerHTML = docLinkHtml;\n",
              "        element.appendChild(docLink);\n",
              "      }\n",
              "    </script>\n",
              "  </div>\n",
              "\n",
              "\n",
              "<div id=\"df-8c1f2892-94bf-4e2f-9c06-6dc5e6efcfa8\">\n",
              "  <button class=\"colab-df-quickchart\" onclick=\"quickchart('df-8c1f2892-94bf-4e2f-9c06-6dc5e6efcfa8')\"\n",
              "            title=\"Suggest charts\"\n",
              "            style=\"display:none;\">\n",
              "\n",
              "<svg xmlns=\"http://www.w3.org/2000/svg\" height=\"24px\"viewBox=\"0 0 24 24\"\n",
              "     width=\"24px\">\n",
              "    <g>\n",
              "        <path d=\"M19 3H5c-1.1 0-2 .9-2 2v14c0 1.1.9 2 2 2h14c1.1 0 2-.9 2-2V5c0-1.1-.9-2-2-2zM9 17H7v-7h2v7zm4 0h-2V7h2v10zm4 0h-2v-4h2v4z\"/>\n",
              "    </g>\n",
              "</svg>\n",
              "  </button>\n",
              "\n",
              "<style>\n",
              "  .colab-df-quickchart {\n",
              "      --bg-color: #E8F0FE;\n",
              "      --fill-color: #1967D2;\n",
              "      --hover-bg-color: #E2EBFA;\n",
              "      --hover-fill-color: #174EA6;\n",
              "      --disabled-fill-color: #AAA;\n",
              "      --disabled-bg-color: #DDD;\n",
              "  }\n",
              "\n",
              "  [theme=dark] .colab-df-quickchart {\n",
              "      --bg-color: #3B4455;\n",
              "      --fill-color: #D2E3FC;\n",
              "      --hover-bg-color: #434B5C;\n",
              "      --hover-fill-color: #FFFFFF;\n",
              "      --disabled-bg-color: #3B4455;\n",
              "      --disabled-fill-color: #666;\n",
              "  }\n",
              "\n",
              "  .colab-df-quickchart {\n",
              "    background-color: var(--bg-color);\n",
              "    border: none;\n",
              "    border-radius: 50%;\n",
              "    cursor: pointer;\n",
              "    display: none;\n",
              "    fill: var(--fill-color);\n",
              "    height: 32px;\n",
              "    padding: 0;\n",
              "    width: 32px;\n",
              "  }\n",
              "\n",
              "  .colab-df-quickchart:hover {\n",
              "    background-color: var(--hover-bg-color);\n",
              "    box-shadow: 0 1px 2px rgba(60, 64, 67, 0.3), 0 1px 3px 1px rgba(60, 64, 67, 0.15);\n",
              "    fill: var(--button-hover-fill-color);\n",
              "  }\n",
              "\n",
              "  .colab-df-quickchart-complete:disabled,\n",
              "  .colab-df-quickchart-complete:disabled:hover {\n",
              "    background-color: var(--disabled-bg-color);\n",
              "    fill: var(--disabled-fill-color);\n",
              "    box-shadow: none;\n",
              "  }\n",
              "\n",
              "  .colab-df-spinner {\n",
              "    border: 2px solid var(--fill-color);\n",
              "    border-color: transparent;\n",
              "    border-bottom-color: var(--fill-color);\n",
              "    animation:\n",
              "      spin 1s steps(1) infinite;\n",
              "  }\n",
              "\n",
              "  @keyframes spin {\n",
              "    0% {\n",
              "      border-color: transparent;\n",
              "      border-bottom-color: var(--fill-color);\n",
              "      border-left-color: var(--fill-color);\n",
              "    }\n",
              "    20% {\n",
              "      border-color: transparent;\n",
              "      border-left-color: var(--fill-color);\n",
              "      border-top-color: var(--fill-color);\n",
              "    }\n",
              "    30% {\n",
              "      border-color: transparent;\n",
              "      border-left-color: var(--fill-color);\n",
              "      border-top-color: var(--fill-color);\n",
              "      border-right-color: var(--fill-color);\n",
              "    }\n",
              "    40% {\n",
              "      border-color: transparent;\n",
              "      border-right-color: var(--fill-color);\n",
              "      border-top-color: var(--fill-color);\n",
              "    }\n",
              "    60% {\n",
              "      border-color: transparent;\n",
              "      border-right-color: var(--fill-color);\n",
              "    }\n",
              "    80% {\n",
              "      border-color: transparent;\n",
              "      border-right-color: var(--fill-color);\n",
              "      border-bottom-color: var(--fill-color);\n",
              "    }\n",
              "    90% {\n",
              "      border-color: transparent;\n",
              "      border-bottom-color: var(--fill-color);\n",
              "    }\n",
              "  }\n",
              "</style>\n",
              "\n",
              "  <script>\n",
              "    async function quickchart(key) {\n",
              "      const quickchartButtonEl =\n",
              "        document.querySelector('#' + key + ' button');\n",
              "      quickchartButtonEl.disabled = true;  // To prevent multiple clicks.\n",
              "      quickchartButtonEl.classList.add('colab-df-spinner');\n",
              "      try {\n",
              "        const charts = await google.colab.kernel.invokeFunction(\n",
              "            'suggestCharts', [key], {});\n",
              "      } catch (error) {\n",
              "        console.error('Error during call to suggestCharts:', error);\n",
              "      }\n",
              "      quickchartButtonEl.classList.remove('colab-df-spinner');\n",
              "      quickchartButtonEl.classList.add('colab-df-quickchart-complete');\n",
              "    }\n",
              "    (() => {\n",
              "      let quickchartButtonEl =\n",
              "        document.querySelector('#df-8c1f2892-94bf-4e2f-9c06-6dc5e6efcfa8 button');\n",
              "      quickchartButtonEl.style.display =\n",
              "        google.colab.kernel.accessAllowed ? 'block' : 'none';\n",
              "    })();\n",
              "  </script>\n",
              "</div>\n",
              "    </div>\n",
              "  </div>\n"
            ]
          },
          "metadata": {},
          "execution_count": 4
        }
      ]
    },
    {
      "cell_type": "code",
      "source": [
        "eeg['Tool wear [min]'] = eeg['Tool wear [min]'].astype('int64')\n",
        "eeg['Machine failure'] = eeg['Machine failure'].astype('int64')\n",
        "eeg['TWF'] = eeg['TWF'].astype('int64')\n",
        "eeg['HDF'] = eeg['HDF'].astype('int64')\n",
        "eeg['PWF'] = eeg['PWF'].astype('int64')\n",
        "eeg['OSF'] = eeg['OSF'].astype('int64')\n",
        "eeg['RNF'] = eeg['RNF'].astype('int64')"
      ],
      "metadata": {
        "id": "zFCJwnQFjG5F"
      },
      "execution_count": null,
      "outputs": []
    },
    {
      "cell_type": "code",
      "source": [
        "col_types = eeg.dtypes\n",
        "print(col_types)"
      ],
      "metadata": {
        "id": "fUl1hP1MiuZI"
      },
      "execution_count": null,
      "outputs": []
    },
    {
      "cell_type": "code",
      "source": [
        "# For Machine failure\n",
        "df_filtered = eeg.drop(columns=['Product ID', 'Type', 'HDF', 'PWF', 'OSF', 'RNF'])\n",
        "target_cols = ['Machine failure']\n",
        "\n",
        "X = df_filtered.drop(columns='Machine failure', axis=1)\n",
        "y = eeg[target_cols]"
      ],
      "metadata": {
        "id": "0Dvmhhp6a81P"
      },
      "execution_count": null,
      "outputs": []
    },
    {
      "cell_type": "code",
      "source": [
        "# For TWF\n",
        "df_filtered = eeg.drop(columns=['Product ID', 'Type', 'Machine failure', 'HDF', 'PWF', 'OSF', 'RNF'])\n",
        "target_cols = ['TWF']\n",
        "\n",
        "X = df_filtered.drop(columns='TWF', axis=1)\n",
        "y = eeg[target_cols]"
      ],
      "metadata": {
        "id": "R7NsJB1JinNB"
      },
      "execution_count": null,
      "outputs": []
    },
    {
      "cell_type": "code",
      "source": [
        "# For HDF\n",
        "df_filtered = eeg.drop(columns=['Product ID', 'Type', 'Machine failure', 'TWF', 'PWF', 'OSF', 'RNF'])\n",
        "target_cols = ['HDF']\n",
        "\n",
        "X = df_filtered.drop(columns='HDF', axis=1)\n",
        "y = eeg[target_cols]"
      ],
      "metadata": {
        "id": "8lc098reaVRu"
      },
      "execution_count": null,
      "outputs": []
    },
    {
      "cell_type": "code",
      "source": [
        "# For PWF\n",
        "df_filtered = eeg.drop(columns=['Product ID', 'Type', 'Machine failure', 'TWF', 'HDF', 'OSF', 'RNF'])\n",
        "target_cols = ['PWF']\n",
        "\n",
        "X = df_filtered.drop(columns='PWF', axis=1)\n",
        "y = eeg[target_cols]"
      ],
      "metadata": {
        "id": "nXwl2qKUags5"
      },
      "execution_count": null,
      "outputs": []
    },
    {
      "cell_type": "code",
      "source": [
        "# For OSF\n",
        "df_filtered = eeg.drop(columns=['Product ID', 'Type', 'Machine failure', 'TWF', 'HDF', 'PWF', 'RNF'])\n",
        "target_cols = ['OSF']\n",
        "\n",
        "X = df_filtered.drop(columns='OSF', axis=1)\n",
        "y = eeg[target_cols]"
      ],
      "metadata": {
        "id": "Icpa8G4lannf"
      },
      "execution_count": null,
      "outputs": []
    },
    {
      "cell_type": "code",
      "source": [
        "# For RNF\n",
        "df_filtered = eeg.drop(columns=['Product ID', 'Type', 'Machine failure', 'TWF', 'HDF', 'OSF', 'PWF'])\n",
        "target_cols = ['RNF']\n",
        "\n",
        "X = df_filtered.drop(columns='RNF', axis=1)\n",
        "y = eeg[target_cols]"
      ],
      "metadata": {
        "id": "_JUNgVofazf1"
      },
      "execution_count": null,
      "outputs": []
    },
    {
      "cell_type": "code",
      "source": [
        "df_filtered = eeg.drop(columns=['UDI', 'Product ID', 'Type', 'Machine failure', 'TWF', 'HDF', 'PWF', 'OSF', 'RNF'])\n",
        "target_cols = eeg.drop(columns=['UDI', 'Product ID', 'Type', 'Air temperature [K]',\n",
        "                  'Process temperature [K]', 'Rotational speed [rpm]',\n",
        "                  'Torque [Nm]', 'Tool wear [min]', 'Machine failure'])\n",
        "\n",
        "X = df_filtered\n",
        "y = target_cols"
      ],
      "metadata": {
        "id": "9K6UV9oBmtse"
      },
      "execution_count": null,
      "outputs": []
    },
    {
      "cell_type": "code",
      "source": [
        "from sklearn.model_selection import train_test_split\n",
        "X_train, X_test, y_train, y_test = train_test_split(X, y, test_size=0.2)"
      ],
      "metadata": {
        "id": "b4npnKV7ZDuA"
      },
      "execution_count": null,
      "outputs": []
    },
    {
      "cell_type": "markdown",
      "source": [
        "# Testing methods\n",
        "\n",
        "To ensure we are going with the correct classifier, I will use lazy predict which will run my dataset on many classifiers."
      ],
      "metadata": {
        "id": "s0bXt1Fti6T2"
      }
    },
    {
      "cell_type": "code",
      "source": [
        "!pip install lazypredict"
      ],
      "metadata": {
        "id": "1zK819SOi2Sc"
      },
      "execution_count": null,
      "outputs": []
    },
    {
      "cell_type": "code",
      "source": [
        "# Lazy predict will do what you expect\n",
        "# Predict for me on a ton of models\n",
        "import lazypredict\n",
        "from lazypredict.Supervised import LazyClassifier\n",
        "\n",
        "# Create and run LazyClassifier\n",
        "clf = LazyClassifier(verbose=0,ignore_warnings=True, custom_metric=None)\n",
        "\n",
        "models,predictions = clf.fit(X_train, X_test, y_train, y_test)\n",
        "\n",
        "print(models)"
      ],
      "metadata": {
        "id": "Xgl4BYGoYtTu"
      },
      "execution_count": null,
      "outputs": []
    },
    {
      "cell_type": "markdown",
      "source": [
        "# Results\n",
        "\n",
        "Random Foreest looks promising with what I've seen in each of the random forest runs with the different targets set to each failure mode.\n",
        "\n",
        "There are other classifers I could try and use but I'm confident with Random Forests (It yeilds good results) and I think it's interesting as a method."
      ],
      "metadata": {
        "id": "PRA0oPZEbQ6Y"
      }
    },
    {
      "cell_type": "code",
      "source": [
        "# Our basic Random Forest\n",
        "from sklearn.ensemble import RandomForestClassifier\n",
        "clf = RandomForestClassifier(max_features=6)\n",
        "clf.fit(X_train, y_train)\n",
        "y_pred = clf.predict(X_test)\n",
        "print(accuracy_score(y_test, y_pred))"
      ],
      "metadata": {
        "colab": {
          "base_uri": "https://localhost:8080/"
        },
        "id": "sKaYpT88bP3P",
        "outputId": "fd280a2a-c49e-4c6d-9c76-850ece51a352"
      },
      "execution_count": null,
      "outputs": [
        {
          "output_type": "stream",
          "name": "stdout",
          "text": [
            "0.9885\n"
          ]
        }
      ]
    },
    {
      "cell_type": "code",
      "source": [
        "# Checking params in use\n",
        "clf.get_params()"
      ],
      "metadata": {
        "id": "I_M4Lme5cnBr"
      },
      "execution_count": null,
      "outputs": []
    },
    {
      "cell_type": "code",
      "source": [
        "!pip install keras\n",
        "!pip install -q -U keras-tuner\n",
        "!pip install -q tensorflow_decision_forests"
      ],
      "metadata": {
        "id": "PjEAMDKzMEeo",
        "colab": {
          "base_uri": "https://localhost:8080/"
        },
        "outputId": "415acfbf-dfaa-4808-a3d2-2051805d6ce9"
      },
      "execution_count": null,
      "outputs": [
        {
          "output_type": "stream",
          "name": "stdout",
          "text": [
            "Requirement already satisfied: keras in /usr/local/lib/python3.10/dist-packages (2.14.0)\n",
            "\u001b[2K     \u001b[90m━━━━━━━━━━━━━━━━━━━━━━━━━━━━━━━━━━━━━━━━\u001b[0m \u001b[32m128.9/128.9 kB\u001b[0m \u001b[31m3.0 MB/s\u001b[0m eta \u001b[36m0:00:00\u001b[0m\n",
            "\u001b[2K     \u001b[90m━━━━━━━━━━━━━━━━━━━━━━━━━━━━━━━━━━━━━━━━\u001b[0m \u001b[32m15.3/15.3 MB\u001b[0m \u001b[31m81.4 MB/s\u001b[0m eta \u001b[36m0:00:00\u001b[0m\n",
            "\u001b[2K     \u001b[90m━━━━━━━━━━━━━━━━━━━━━━━━━━━━━━━━━━━━━━━━\u001b[0m \u001b[32m475.2/475.2 MB\u001b[0m \u001b[31m2.8 MB/s\u001b[0m eta \u001b[36m0:00:00\u001b[0m\n",
            "\u001b[2K     \u001b[90m━━━━━━━━━━━━━━━━━━━━━━━━━━━━━━━━━━━━━━━━\u001b[0m \u001b[32m5.5/5.5 MB\u001b[0m \u001b[31m98.4 MB/s\u001b[0m eta \u001b[36m0:00:00\u001b[0m\n",
            "\u001b[2K     \u001b[90m━━━━━━━━━━━━━━━━━━━━━━━━━━━━━━━━━━━━━━━━\u001b[0m \u001b[32m442.0/442.0 kB\u001b[0m \u001b[31m36.0 MB/s\u001b[0m eta \u001b[36m0:00:00\u001b[0m\n",
            "\u001b[2K     \u001b[90m━━━━━━━━━━━━━━━━━━━━━━━━━━━━━━━━━━━━━━━━\u001b[0m \u001b[32m1.7/1.7 MB\u001b[0m \u001b[31m62.1 MB/s\u001b[0m eta \u001b[36m0:00:00\u001b[0m\n",
            "\u001b[?25h"
          ]
        }
      ]
    },
    {
      "cell_type": "code",
      "source": [
        "import numpy as np\n",
        "from time import time\n",
        "import keras_tuner as kt\n",
        "import tensorflow as tf\n",
        "from tensorflow import keras\n",
        "from tensorflow.keras import layers\n",
        "import scipy.stats as stats\n",
        "import tensorflow_decision_forests as tfdf\n",
        "from sklearn.model_selection import GridSearchCV, RandomizedSearchCV"
      ],
      "metadata": {
        "id": "Xa1ZreTHfjWq"
      },
      "execution_count": null,
      "outputs": []
    },
    {
      "cell_type": "code",
      "source": [
        "# In order to use the Keras tuner\n",
        "# I will be building a model using a function that returns a keras model\n",
        "\n",
        "def build_forest_model(hp):\n",
        "\n",
        "  # Setup the model\n",
        "  forest_model = tfdf.keras.GradientBoostedTreesModel(\n",
        "      num_trees=hp.Int('num_trees', min_value=10, max_value=710, step=25),\n",
        "      growing_strategy=hp.Choice('growing_strategy', values=['BEST_FIRST_GLOBAL', 'LOCAL']),\n",
        "      subsample=hp.Float('subsample', min_value=0.1, max_value=0.95, step=0.05),\n",
        "      num_threads=4\n",
        "  )\n",
        "\n",
        "  # Compile with accuracy (AUC) as the metric\n",
        "  forest_model.compile(metrics=['accuracy', tf.keras.metrics.AUC()])\n",
        "\n",
        "  # Give us back our keras model so we can tune\n",
        "  return forest_model"
      ],
      "metadata": {
        "id": "F-JCFCRDMYZy"
      },
      "execution_count": null,
      "outputs": []
    },
    {
      "cell_type": "code",
      "source": [
        "# I want my tuner to use Bayesian to optimize\n",
        "forest_tuner = kt.BayesianOptimization(\n",
        "    build_forest_model, # Get the model\n",
        "    objective=kt.Objective('val_auc', direction='max'),\n",
        "    max_trials=50,\n",
        "    project_name='RamboForest'\n",
        ")"
      ],
      "metadata": {
        "colab": {
          "base_uri": "https://localhost:8080/"
        },
        "id": "sV0s7NthPf81",
        "outputId": "ee46689a-37ed-4330-e3b3-565d64768288"
      },
      "execution_count": null,
      "outputs": [
        {
          "output_type": "stream",
          "name": "stdout",
          "text": [
            "Use /tmp/tmp3n65l43l as temporary training directory\n"
          ]
        }
      ]
    },
    {
      "cell_type": "code",
      "source": [
        "train_ds = tfdf.keras.pd_dataframe_to_tf_dataset(pd.concat([X_train, y_train], axis=1), in_place=True, label='RNF')\n",
        "test_ds = tfdf.keras.pd_dataframe_to_tf_dataset(pd.concat([X_test, y_test], axis=1), in_place=True, label='RNF')"
      ],
      "metadata": {
        "colab": {
          "base_uri": "https://localhost:8080/"
        },
        "id": "3yNgRyw5cIeC",
        "outputId": "d3a2476b-7d17-44e9-aa24-657329a045d2"
      },
      "execution_count": null,
      "outputs": [
        {
          "output_type": "stream",
          "name": "stdout",
          "text": [
            "Warning: Some of the feature names have been changed automatically to be compatible with SavedModels because fix_feature_names=True.\n"
          ]
        },
        {
          "output_type": "stream",
          "name": "stderr",
          "text": [
            "WARNING:absl:Some of the feature names have been changed automatically to be compatible with SavedModels because fix_feature_names=True.\n"
          ]
        },
        {
          "output_type": "stream",
          "name": "stdout",
          "text": [
            "Warning: Some of the feature names have been changed automatically to be compatible with SavedModels because fix_feature_names=True.\n"
          ]
        },
        {
          "output_type": "stream",
          "name": "stderr",
          "text": [
            "WARNING:absl:Some of the feature names have been changed automatically to be compatible with SavedModels because fix_feature_names=True.\n"
          ]
        }
      ]
    },
    {
      "cell_type": "code",
      "source": [
        "forest_tuner.search(train_ds, epochs=1, validation_data=test_ds)"
      ],
      "metadata": {
        "colab": {
          "base_uri": "https://localhost:8080/"
        },
        "id": "nDNA20DBQZ6R",
        "outputId": "2906bd61-18f1-440a-b586-72572dbd678e"
      },
      "execution_count": null,
      "outputs": [
        {
          "output_type": "stream",
          "name": "stdout",
          "text": [
            "Trial 50 Complete [00h 00m 04s]\n",
            "val_auc: 0.49399399757385254\n",
            "\n",
            "Best val_auc So Far: 0.49399399757385254\n",
            "Total elapsed time: 00h 03m 49s\n"
          ]
        }
      ]
    },
    {
      "cell_type": "code",
      "source": [
        "forest_tuner.results_summary()"
      ],
      "metadata": {
        "colab": {
          "base_uri": "https://localhost:8080/"
        },
        "id": "n-Jd4NBZkTvE",
        "outputId": "6cf5862a-def8-4cc8-a274-ad2f232576cd"
      },
      "execution_count": null,
      "outputs": [
        {
          "output_type": "stream",
          "name": "stdout",
          "text": [
            "Results summary\n",
            "Results in ./RamboForest\n",
            "Showing 10 best trials\n",
            "Objective(name=\"val_auc\", direction=\"max\")\n",
            "\n",
            "Trial 09 summary\n",
            "Hyperparameters:\n",
            "num_trees: 310\n",
            "growing_strategy: LOCAL\n",
            "subsample: 0.9\n",
            "Score: 0.49399399757385254\n",
            "\n",
            "Trial 11 summary\n",
            "Hyperparameters:\n",
            "num_trees: 585\n",
            "growing_strategy: LOCAL\n",
            "subsample: 0.9\n",
            "Score: 0.49399399757385254\n",
            "\n",
            "Trial 14 summary\n",
            "Hyperparameters:\n",
            "num_trees: 435\n",
            "growing_strategy: LOCAL\n",
            "subsample: 0.9\n",
            "Score: 0.49399399757385254\n",
            "\n",
            "Trial 16 summary\n",
            "Hyperparameters:\n",
            "num_trees: 360\n",
            "growing_strategy: LOCAL\n",
            "subsample: 0.9\n",
            "Score: 0.49399399757385254\n",
            "\n",
            "Trial 17 summary\n",
            "Hyperparameters:\n",
            "num_trees: 360\n",
            "growing_strategy: LOCAL\n",
            "subsample: 0.9\n",
            "Score: 0.49399399757385254\n",
            "\n",
            "Trial 18 summary\n",
            "Hyperparameters:\n",
            "num_trees: 360\n",
            "growing_strategy: LOCAL\n",
            "subsample: 0.9\n",
            "Score: 0.49399399757385254\n",
            "\n",
            "Trial 19 summary\n",
            "Hyperparameters:\n",
            "num_trees: 360\n",
            "growing_strategy: LOCAL\n",
            "subsample: 0.9\n",
            "Score: 0.49399399757385254\n",
            "\n",
            "Trial 20 summary\n",
            "Hyperparameters:\n",
            "num_trees: 360\n",
            "growing_strategy: LOCAL\n",
            "subsample: 0.9\n",
            "Score: 0.49399399757385254\n",
            "\n",
            "Trial 21 summary\n",
            "Hyperparameters:\n",
            "num_trees: 360\n",
            "growing_strategy: LOCAL\n",
            "subsample: 0.9\n",
            "Score: 0.49399399757385254\n",
            "\n",
            "Trial 22 summary\n",
            "Hyperparameters:\n",
            "num_trees: 360\n",
            "growing_strategy: LOCAL\n",
            "subsample: 0.9\n",
            "Score: 0.49399399757385254\n"
          ]
        }
      ]
    },
    {
      "cell_type": "code",
      "source": [
        "best_forest_model = forest_tuner.get_best_models(num_models=1)[0]"
      ],
      "metadata": {
        "colab": {
          "base_uri": "https://localhost:8080/"
        },
        "id": "NTxafOxmknHd",
        "outputId": "62563872-041a-48d6-fbfc-ebc0b0adef4f"
      },
      "execution_count": null,
      "outputs": [
        {
          "output_type": "stream",
          "name": "stdout",
          "text": [
            "Use /tmp/tmpgytrwprd as temporary training directory\n"
          ]
        }
      ]
    },
    {
      "cell_type": "code",
      "source": [
        "best_forest_model.fit(train_ds)"
      ],
      "metadata": {
        "colab": {
          "base_uri": "https://localhost:8080/"
        },
        "id": "Drba8-rCjVHc",
        "outputId": "abaee2f7-a332-4b01-e28a-785701876221"
      },
      "execution_count": null,
      "outputs": [
        {
          "output_type": "stream",
          "name": "stdout",
          "text": [
            "Reading training dataset...\n",
            "Training dataset read in 0:00:00.273166. Found 8000 examples.\n",
            "Training model...\n",
            "Model trained in 0:00:00.844599\n",
            "Compiling model...\n",
            "Model compiled.\n"
          ]
        },
        {
          "output_type": "execute_result",
          "data": {
            "text/plain": [
              "<keras.src.callbacks.History at 0x7f0a8ad6d2a0>"
            ]
          },
          "metadata": {},
          "execution_count": 24
        }
      ]
    },
    {
      "cell_type": "code",
      "source": [
        "best_forest_model.predict(test_ds, verbose=1)"
      ],
      "metadata": {
        "colab": {
          "base_uri": "https://localhost:8080/"
        },
        "id": "MsMkKpPTkCVq",
        "outputId": "4b6cc4ac-bafc-488b-c348-a83324eb54eb"
      },
      "execution_count": null,
      "outputs": [
        {
          "output_type": "stream",
          "name": "stdout",
          "text": [
            "2/2 [==============================] - 0s 11ms/step\n"
          ]
        },
        {
          "output_type": "execute_result",
          "data": {
            "text/plain": [
              "array([[0.02642518],\n",
              "       [0.00064139],\n",
              "       [0.00045552],\n",
              "       ...,\n",
              "       [0.00051317],\n",
              "       [0.00058276],\n",
              "       [0.00077803]], dtype=float32)"
            ]
          },
          "metadata": {},
          "execution_count": 25
        }
      ]
    },
    {
      "cell_type": "code",
      "source": [
        "best_forest_model.evaluate(test_ds)"
      ],
      "metadata": {
        "colab": {
          "base_uri": "https://localhost:8080/"
        },
        "id": "fI6oMX3jkdSP",
        "outputId": "f008a950-c9cb-41ce-ed4c-5592a2b20792"
      },
      "execution_count": null,
      "outputs": [
        {
          "output_type": "stream",
          "name": "stdout",
          "text": [
            "2/2 [==============================] - 0s 46ms/step - loss: 0.0000e+00 - accuracy: 0.9990 - auc: 0.4912\n"
          ]
        },
        {
          "output_type": "execute_result",
          "data": {
            "text/plain": [
              "[0.0, 0.9990000128746033, 0.4912412464618683]"
            ]
          },
          "metadata": {},
          "execution_count": 26
        }
      ]
    },
    {
      "cell_type": "markdown",
      "source": [
        "\n",
        "\n",
        "---\n",
        "\n"
      ],
      "metadata": {
        "id": "zv5ssKRwWhGU"
      }
    }
  ]
}